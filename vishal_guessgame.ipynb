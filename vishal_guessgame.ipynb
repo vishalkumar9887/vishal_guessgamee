{
 "cells": [
  {
   "cell_type": "code",
   "execution_count": null,
   "metadata": {},
   "outputs": [
    {
     "name": "stdout",
     "output_type": "stream",
     "text": [
      "\n",
      "Welcome to the Number Guessing Game!\n",
      "I'm thinking of a number between 1 and 100.\n",
      "Too low! Try again.\n",
      "Too low! Try again.\n",
      "Too low! Try again.\n",
      "Too low! Try again.\n",
      "Too high! Try again.\n",
      "Too low! Try again.\n",
      "Too low! Try again.\n",
      "Too low! Try again.\n",
      "Too low! Try again.\n",
      "Too low! Try again.\n",
      "Too high! Try again.\n",
      "Congratulations! You guessed it in 12 attempts.\n"
     ]
    }
   ],
   "source": [
    "import random\n",
    "\n",
    "def play_game():\n",
    "    number = random.randint(1, 100)\n",
    "    attempt = 0\n",
    "\n",
    "    print(\"\\nWelcome to the Number Guessing Game!\")\n",
    "    print(\"I'm thinking of a number between 1 and 100.\")\n",
    "\n",
    "    while True:\n",
    "        guess = input(\"Enter your guess: \")\n",
    "        if not guess.isdigit():\n",
    "            print(\"Invalid input! Please enter a number.\")\n",
    "            continue\n",
    "\n",
    "        guess = int(guess)\n",
    "        attempt += 1\n",
    "\n",
    "        if guess < number:\n",
    "            print(\"Too low! Try again.\")\n",
    "        elif guess > number:\n",
    "            print(\"Too high! Try again.\")\n",
    "        else:\n",
    "            print(f\"Congratulations! You guessed it in {attempt} attempts.\")\n",
    "            break\n",
    "\n",
    "while True:\n",
    "    play_game()\n",
    "    again = input(\"Do you want to play again? (yes/no): \").lower()\n",
    "    if again != \"yes\":\n",
    "        print(\"Thanks for playing! Goodbye!\")\n",
    "        break\n"
   ]
  },
  {
   "cell_type": "code",
   "execution_count": null,
   "metadata": {},
   "outputs": [],
   "source": []
  },
  {
   "cell_type": "code",
   "execution_count": null,
   "metadata": {},
   "outputs": [],
   "source": [
    "\n"
   ]
  }
 ],
 "metadata": {
  "kernelspec": {
   "display_name": "Python 3",
   "language": "python",
   "name": "python3"
  },
  "language_info": {
   "codemirror_mode": {
    "name": "ipython",
    "version": 3
   },
   "file_extension": ".py",
   "mimetype": "text/x-python",
   "name": "python",
   "nbconvert_exporter": "python",
   "pygments_lexer": "ipython3",
   "version": "3.13.2"
  }
 },
 "nbformat": 4,
 "nbformat_minor": 2
}
